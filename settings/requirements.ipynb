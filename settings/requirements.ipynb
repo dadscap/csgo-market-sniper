{
 "cells": [
  {
   "cell_type": "code",
   "execution_count": 1,
   "metadata": {},
   "outputs": [
    {
     "name": "stdout",
     "output_type": "stream",
     "text": [
      "Collecting selenium (from -r requirements.txt (line 1))\n",
      "  Using cached selenium-4.10.0-py3-none-any.whl (6.7 MB)\n",
      "Requirement already satisfied: requests in c:\\users\\gigachad\\appdata\\local\\programs\\python\\python311\\lib\\site-packages (from -r requirements.txt (line 2)) (2.31.0)\n",
      "Collecting chromedriver-autoinstaller (from -r requirements.txt (line 3))\n",
      "  Using cached chromedriver_autoinstaller-0.4.0-py3-none-any.whl (6.5 kB)\n",
      "Collecting pyyaml (from -r requirements.txt (line 4))\n",
      "  Downloading PyYAML-6.0-cp311-cp311-win_amd64.whl (143 kB)\n",
      "                                              0.0/143.2 kB ? eta -:--:--\n",
      "     -------------------------------------- 143.2/143.2 kB 4.3 MB/s eta 0:00:00\n",
      "Collecting html5lib (from -r requirements.txt (line 5))\n",
      "  Using cached html5lib-1.1-py2.py3-none-any.whl (112 kB)\n",
      "Collecting bs4 (from -r requirements.txt (line 6))\n",
      "  Using cached bs4-0.0.1.tar.gz (1.1 kB)\n",
      "  Installing build dependencies: started\n",
      "  Installing build dependencies: finished with status 'done'\n",
      "  Getting requirements to build wheel: started\n",
      "  Getting requirements to build wheel: finished with status 'done'\n",
      "  Preparing metadata (pyproject.toml): started\n",
      "  Preparing metadata (pyproject.toml): finished with status 'done'\n",
      "Collecting fake_headers (from -r requirements.txt (line 7))\n",
      "  Using cached fake_headers-1.0.2-py3-none-any.whl (17 kB)\n",
      "Requirement already satisfied: urllib3[socks]<3,>=1.26 in c:\\users\\gigachad\\appdata\\local\\programs\\python\\python311\\lib\\site-packages (from selenium->-r requirements.txt (line 1)) (2.0.3)\n",
      "Collecting trio~=0.17 (from selenium->-r requirements.txt (line 1))\n",
      "  Using cached trio-0.22.0-py3-none-any.whl (384 kB)\n",
      "Collecting trio-websocket~=0.9 (from selenium->-r requirements.txt (line 1))\n",
      "  Using cached trio_websocket-0.10.3-py3-none-any.whl (17 kB)\n",
      "Requirement already satisfied: certifi>=2021.10.8 in c:\\users\\gigachad\\appdata\\local\\programs\\python\\python311\\lib\\site-packages (from selenium->-r requirements.txt (line 1)) (2023.5.7)\n",
      "Requirement already satisfied: charset-normalizer<4,>=2 in c:\\users\\gigachad\\appdata\\local\\programs\\python\\python311\\lib\\site-packages (from requests->-r requirements.txt (line 2)) (3.1.0)\n",
      "Requirement already satisfied: idna<4,>=2.5 in c:\\users\\gigachad\\appdata\\local\\programs\\python\\python311\\lib\\site-packages (from requests->-r requirements.txt (line 2)) (3.4)\n",
      "Requirement already satisfied: six>=1.9 in c:\\users\\gigachad\\appdata\\roaming\\python\\python311\\site-packages (from html5lib->-r requirements.txt (line 5)) (1.16.0)\n",
      "Collecting webencodings (from html5lib->-r requirements.txt (line 5))\n",
      "  Using cached webencodings-0.5.1-py2.py3-none-any.whl (11 kB)\n",
      "Collecting beautifulsoup4 (from bs4->-r requirements.txt (line 6))\n",
      "  Using cached beautifulsoup4-4.12.2-py3-none-any.whl (142 kB)\n",
      "Requirement already satisfied: attrs>=19.2.0 in c:\\users\\gigachad\\appdata\\local\\programs\\python\\python311\\lib\\site-packages (from trio~=0.17->selenium->-r requirements.txt (line 1)) (23.1.0)\n",
      "Collecting sortedcontainers (from trio~=0.17->selenium->-r requirements.txt (line 1))\n",
      "  Using cached sortedcontainers-2.4.0-py2.py3-none-any.whl (29 kB)\n",
      "Collecting async-generator>=1.9 (from trio~=0.17->selenium->-r requirements.txt (line 1))\n",
      "  Using cached async_generator-1.10-py3-none-any.whl (18 kB)\n",
      "Collecting outcome (from trio~=0.17->selenium->-r requirements.txt (line 1))\n",
      "  Using cached outcome-1.2.0-py2.py3-none-any.whl (9.7 kB)\n",
      "Collecting sniffio (from trio~=0.17->selenium->-r requirements.txt (line 1))\n",
      "  Downloading sniffio-1.3.0-py3-none-any.whl (10 kB)\n",
      "Collecting cffi>=1.14 (from trio~=0.17->selenium->-r requirements.txt (line 1))\n",
      "  Downloading cffi-1.15.1-cp311-cp311-win_amd64.whl (179 kB)\n",
      "                                              0.0/179.0 kB ? eta -:--:--\n",
      "     ---------------------------------------- 179.0/179.0 kB ? eta 0:00:00\n",
      "Collecting exceptiongroup (from trio-websocket~=0.9->selenium->-r requirements.txt (line 1))\n",
      "  Using cached exceptiongroup-1.1.1-py3-none-any.whl (14 kB)\n",
      "Collecting wsproto>=0.14 (from trio-websocket~=0.9->selenium->-r requirements.txt (line 1))\n",
      "  Using cached wsproto-1.2.0-py3-none-any.whl (24 kB)\n",
      "Requirement already satisfied: pysocks!=1.5.7,<2.0,>=1.5.6 in c:\\users\\gigachad\\appdata\\local\\programs\\python\\python311\\lib\\site-packages (from urllib3[socks]<3,>=1.26->selenium->-r requirements.txt (line 1)) (1.7.1)\n",
      "Collecting soupsieve>1.2 (from beautifulsoup4->bs4->-r requirements.txt (line 6))\n",
      "  Downloading soupsieve-2.4.1-py3-none-any.whl (36 kB)\n",
      "Collecting pycparser (from cffi>=1.14->trio~=0.17->selenium->-r requirements.txt (line 1))\n",
      "  Downloading pycparser-2.21-py2.py3-none-any.whl (118 kB)\n",
      "                                              0.0/118.7 kB ? eta -:--:--\n",
      "     -------------------------------------- 118.7/118.7 kB 6.8 MB/s eta 0:00:00\n",
      "Collecting h11<1,>=0.9.0 (from wsproto>=0.14->trio-websocket~=0.9->selenium->-r requirements.txt (line 1))\n",
      "  Using cached h11-0.14.0-py3-none-any.whl (58 kB)\n",
      "Building wheels for collected packages: bs4\n",
      "  Building wheel for bs4 (pyproject.toml): started\n",
      "  Building wheel for bs4 (pyproject.toml): finished with status 'done'\n",
      "  Created wheel for bs4: filename=bs4-0.0.1-py3-none-any.whl size=1266 sha256=b9d94614432d7716ae88a1fc1e1ca54d096cba3888bcfb67364b798532c63076\n",
      "  Stored in directory: c:\\users\\gigachad\\appdata\\local\\pip\\cache\\wheels\\d4\\c8\\5b\\b5be9c20e5e4503d04a6eac8a3cd5c2393505c29f02bea0960\n",
      "Successfully built bs4\n",
      "Installing collected packages: webencodings, sortedcontainers, soupsieve, sniffio, pyyaml, pycparser, outcome, html5lib, h11, exceptiongroup, chromedriver-autoinstaller, async-generator, wsproto, cffi, beautifulsoup4, trio, bs4, trio-websocket, fake_headers, selenium\n",
      "Successfully installed async-generator-1.10 beautifulsoup4-4.12.2 bs4-0.0.1 cffi-1.15.1 chromedriver-autoinstaller-0.4.0 exceptiongroup-1.1.1 fake_headers-1.0.2 h11-0.14.0 html5lib-1.1 outcome-1.2.0 pycparser-2.21 pyyaml-6.0 selenium-4.10.0 sniffio-1.3.0 sortedcontainers-2.4.0 soupsieve-2.4.1 trio-0.22.0 trio-websocket-0.10.3 webencodings-0.5.1 wsproto-1.2.0\n",
      "Note: you may need to restart the kernel to use updated packages.\n"
     ]
    }
   ],
   "source": [
    "pip install -r requirements.txt"
   ]
  }
 ],
 "metadata": {
  "kernelspec": {
   "display_name": "env_pytorch",
   "language": "python",
   "name": "python3"
  },
  "language_info": {
   "codemirror_mode": {
    "name": "ipython",
    "version": 3
   },
   "file_extension": ".py",
   "mimetype": "text/x-python",
   "name": "python",
   "nbconvert_exporter": "python",
   "pygments_lexer": "ipython3",
   "version": "3.11.3"
  },
  "orig_nbformat": 4
 },
 "nbformat": 4,
 "nbformat_minor": 2
}
